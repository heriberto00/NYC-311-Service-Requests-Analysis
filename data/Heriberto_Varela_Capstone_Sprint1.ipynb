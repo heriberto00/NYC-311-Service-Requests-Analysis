{
 "cells": [
  {
   "cell_type": "code",
   "execution_count": 497,
   "id": "85cb4773",
   "metadata": {},
   "outputs": [],
   "source": [
    "import time\n",
    "import seaborn as sns\n",
    "import pandas as pd\n",
    "import matplotlib\n",
    "import matplotlib.pyplot as plt\n",
    "import squarify\n",
    "import numpy as np\n",
    "pd.options.mode.chained_assignment = None  # default='warn'\n",
    "import re"
   ]
  },
  {
   "cell_type": "markdown",
   "id": "80269c20-7711-4847-9c3e-65729edf8254",
   "metadata": {},
   "source": [
    "## Problem statement."
   ]
  },
  {
   "cell_type": "markdown",
   "id": "2c9a5e50-4765-4202-b549-a13ed426d7f8",
   "metadata": {},
   "source": [
    "By analysing NYC-311 service request data and other demographic indicators like the poverty rate and racial diversity index, can we predict how long will it take for a request to be resolved?"
   ]
  },
  {
   "cell_type": "markdown",
   "id": "a7dab3d3-4dc9-4950-b5f1-7288fb3624e5",
   "metadata": {},
   "source": [
    "## Data retrieval."
   ]
  },
  {
   "cell_type": "markdown",
   "id": "b7002dea-e129-44a0-8780-a965d580c1b4",
   "metadata": {},
   "source": [
    "The main dataset I will be using is the [\"311 Service Requests from 2010 to Present\"](https://data.cityofnewyork.us/Social-Services/311-Service-Requests-from-2010-to-Present/erm2-nwe9/about_data) dataset from NYC OpenData. This dataset contains all 311 Service Requests from 2010 to present, and it's updated daily. Given the size of the dataset, I decided to pull back the most recent 3 million requests to allow for easy manipulation of the data."
   ]
  },
  {
   "cell_type": "markdown",
   "id": "6db2fedb-885a-4033-aae9-5eb24f917712",
   "metadata": {},
   "source": [
    "I used the [Socrata API](https://dev.socrata.com/foundry/data.cityofnewyork.us/erm2-nwe9) to pull back the data, see the API call in the following two cells. I excluded my personal account keys and username, but they are not necessary. If you want to recreate my steps and pull back the data, you can exclude the last three parameters used in the ```Socrata()``` function."
   ]
  },
  {
   "cell_type": "code",
   "execution_count": 498,
   "id": "54d6c9d5",
   "metadata": {},
   "outputs": [],
   "source": [
    "#from sodapy import Socrata\n",
    "#start = time.time()\n",
    "#client = Socrata(\"data.cityofnewyork.us\",\n",
    "#                  \"---\",\n",
    "#                  username=\"---\",\n",
    "#                  password=\"---\")\n",
    "#client.timeout = 1200\n",
    "#data = client.get(\"erm2-nwe9\", limit=3000000)\n",
    "#end = time.time()\n",
    "#print(f\"Time to retrieve rows: {round(end - start, 2)}\")"
   ]
  },
  {
   "cell_type": "code",
   "execution_count": 499,
   "id": "142b2e88",
   "metadata": {},
   "outputs": [],
   "source": [
    "#start = time.time()\n",
    "#df = pd.DataFrame.from_records(data)\n",
    "#end = time.time()\n",
    "#print(f\"Time to load data: {end - start}\")"
   ]
  },
  {
   "cell_type": "code",
   "execution_count": 500,
   "id": "135e4f47-5301-4463-934d-80c48ce6d94c",
   "metadata": {},
   "outputs": [],
   "source": [
    "# exported the dataset into a parquet to avoid retrieving the data over and over.\n",
    "#df.to_parquet('capstone_data.parquet.gzip', compression='gzip')"
   ]
  },
  {
   "cell_type": "markdown",
   "id": "7a7d6c6f-3546-4bce-8fd4-7bbaee8e626a",
   "metadata": {},
   "source": [
    "Additional datasets used are the [racial diversity index](https://app.coredata.nyc/?mlb=false&ntii=pop_race_div_idx&ntr=Sub-Borough%20Area&mz=14&vtl=https%3A%2F%2Fthefurmancenter.carto.com%2Fu%2Fnyufc%2Fapi%2Fv2%2Fviz%2F98d1f16e-95fd-4e52-a2b1-b7abaf634828%2Fviz.json&mln=true&mlp=false&mlat=40.729123&nty=2021&mb=roadmap&pf=%7B%22subsidies%22%3Atrue%7D&md=table&mlv=false&mlng=-73.992714&btl=Borough&atp=neighborhoods) and [poverty rate](https://app.coredata.nyc/?mlb=false&ntii=pop_pov_pct&ntr=Sub-Borough%20Area&mz=14&vtl=https%3A%2F%2Fthefurmancenter.carto.com%2Fu%2Fnyufc%2Fapi%2Fv2%2Fviz%2F98d1f16e-95fd-4e52-a2b1-b7abaf634828%2Fviz.json&mln=true&mlp=false&mlat=40.729123&nty=2021&mb=roadmap&pf=%7B%22subsidies%22%3Atrue%7D&md=table&mlv=false&mlng=-73.992714&btl=Borough&atp=neighborhoods) distributions from NYU's Furman Center, [median household income](https://simplemaps.com/city/new-york/zips/income-household-median) distribution by ZIP code from simplemaps, and the [\"NYC Community Boards\"](https://data.cityofnewyork.us/City-Government/NYC-Community-Boards/ruf7-3wgc/about_data) dataset from NYC OpenData. Columns from these datasets will be used to get a better picture of the location where the 311 requests where made from and extract valuable indicators related to the request's resolution time, if any."
   ]
  },
  {
   "cell_type": "markdown",
   "id": "582f2b9f-1719-4d95-be01-515fce853f68",
   "metadata": {},
   "source": [
    "## Data cleaning."
   ]
  },
  {
   "cell_type": "markdown",
   "id": "ae910a60-514b-48b7-bfa9-86d5fe068d3e",
   "metadata": {},
   "source": [
    "Cleaning the 311 Requests dataset first."
   ]
  },
  {
   "cell_type": "code",
   "execution_count": 501,
   "id": "880fa60a-f57f-4b1f-ad23-22c945c56472",
   "metadata": {},
   "outputs": [],
   "source": [
    "# import parquet file\n",
    "req_df = pd.read_parquet(\"capstone_data.parquet.gzip\")"
   ]
  },
  {
   "cell_type": "markdown",
   "id": "8cfc7e06-10c0-44c7-8732-0c39eeac9b3a",
   "metadata": {},
   "source": [
    "Only keeping columns relevant to request type, location and resolution time. See the overview of all columns [here](https://github.com/heriberto00/Capstone/blob/main/data/311%20Requests%20Overview.md). "
   ]
  },
  {
   "cell_type": "code",
   "execution_count": 502,
   "id": "b5f13237-86c8-4e9e-afa4-3332ce903da2",
   "metadata": {},
   "outputs": [],
   "source": [
    "req_df = req_df[['created_date', 'agency', 'agency_name', 'complaint_type', 'descriptor', 'incident_zip', 'borough', 'community_board',\n",
    "                 'resolution_description', 'resolution_action_updated_date', 'closed_date', 'due_date']]"
   ]
  },
  {
   "cell_type": "markdown",
   "id": "53d2a0a9-c328-43ce-8a10-15dd4e27e6aa",
   "metadata": {},
   "source": [
    "Excluding rows with invalid ZIP codes, since it'll later be used to join median income data."
   ]
  },
  {
   "cell_type": "code",
   "execution_count": 503,
   "id": "e4b93ec2-eed9-4f06-977d-4d4835b47888",
   "metadata": {},
   "outputs": [],
   "source": [
    "req_df = req_df[req_df['incident_zip'].notna()]\n",
    "req_df = req_df[req_df['incident_zip'] != \"NA\"]"
   ]
  },
  {
   "cell_type": "code",
   "execution_count": 504,
   "id": "a6811a45-3ccc-4c5d-8843-37dd9ac0ccbd",
   "metadata": {},
   "outputs": [
    {
     "data": {
      "text/plain": [
       "27089"
      ]
     },
     "execution_count": 504,
     "metadata": {},
     "output_type": "execute_result"
    }
   ],
   "source": [
    "# looking at total amount of duplicates\n",
    "req_df.duplicated().sum()"
   ]
  },
  {
   "cell_type": "code",
   "execution_count": 505,
   "id": "3037db00-2c77-4d7c-a729-b8992bc69b52",
   "metadata": {},
   "outputs": [],
   "source": [
    "# not a significant amount, we can drop duplicates\n",
    "req_df.drop_duplicates(inplace=True)"
   ]
  },
  {
   "cell_type": "code",
   "execution_count": 506,
   "id": "9bac4f6b-3ffc-44c8-94a2-c713744ec8dd",
   "metadata": {},
   "outputs": [
    {
     "data": {
      "text/plain": [
       "created_date                      2936369\n",
       "agency                            2936369\n",
       "agency_name                       2936369\n",
       "complaint_type                    2936369\n",
       "descriptor                        2911360\n",
       "incident_zip                      2936369\n",
       "borough                           2936369\n",
       "community_board                   2936369\n",
       "resolution_description            2838677\n",
       "resolution_action_updated_date    2869694\n",
       "closed_date                       2768042\n",
       "due_date                            15443\n",
       "dtype: int64"
      ]
     },
     "execution_count": 506,
     "metadata": {},
     "output_type": "execute_result"
    }
   ],
   "source": [
    "req_df.count()"
   ]
  },
  {
   "cell_type": "code",
   "execution_count": 507,
   "id": "e4bd438b-3412-447d-bdf5-4c2469d88a67",
   "metadata": {},
   "outputs": [],
   "source": [
    "# converting date columns from object to datetime for easier manipulation\n",
    "req_df['created_date']= pd.to_datetime(req_df['created_date'])\n",
    "req_df['resolution_action_updated_date']= pd.to_datetime(req_df['resolution_action_updated_date'])\n",
    "req_df['closed_date']= pd.to_datetime(req_df['closed_date'])\n",
    "req_df['due_date']= pd.to_datetime(req_df['due_date'])"
   ]
  },
  {
   "cell_type": "code",
   "execution_count": 508,
   "id": "e12976be-d72c-4792-a3c5-c5186d0676a2",
   "metadata": {},
   "outputs": [],
   "source": [
    "# converting columns from object to string and int for easier manipulation\n",
    "req_df['agency'] = req_df['agency'].astype(\"string\")\n",
    "req_df['agency_name'] = req_df['agency_name'].astype(\"string\")\n",
    "req_df['complaint_type'] = req_df['complaint_type'].astype(\"string\")\n",
    "req_df['descriptor'] = req_df['descriptor'].astype(\"string\")\n",
    "req_df['resolution_description'] = req_df['resolution_description'].astype(\"string\")\n",
    "req_df['borough'] = req_df['borough'].astype(\"string\")\n",
    "req_df['community_board'] = req_df['community_board'].astype(\"string\")\n",
    "req_df['incident_zip'] = req_df['incident_zip'].astype(\"string\").astype(\"int\")"
   ]
  },
  {
   "cell_type": "code",
   "execution_count": 509,
   "id": "9108b34b-444e-4db9-bc21-568a69774d00",
   "metadata": {},
   "outputs": [],
   "source": [
    "# sorting and reseting index to have a chronological ordered dataset\n",
    "req_df = req_df.sort_values(by=['created_date'])\n",
    "req_df = req_df.reset_index(drop=True)"
   ]
  },
  {
   "cell_type": "code",
   "execution_count": 510,
   "id": "71a079d4-17c2-43ae-a654-e8abc5062ee6",
   "metadata": {},
   "outputs": [
    {
     "name": "stdout",
     "output_type": "stream",
     "text": [
      "<class 'pandas.core.frame.DataFrame'>\n",
      "RangeIndex: 2936369 entries, 0 to 2936368\n",
      "Data columns (total 12 columns):\n",
      " #   Column                          Dtype         \n",
      "---  ------                          -----         \n",
      " 0   created_date                    datetime64[ns]\n",
      " 1   agency                          string        \n",
      " 2   agency_name                     string        \n",
      " 3   complaint_type                  string        \n",
      " 4   descriptor                      string        \n",
      " 5   incident_zip                    int64         \n",
      " 6   borough                         string        \n",
      " 7   community_board                 string        \n",
      " 8   resolution_description          string        \n",
      " 9   resolution_action_updated_date  datetime64[ns]\n",
      " 10  closed_date                     datetime64[ns]\n",
      " 11  due_date                        datetime64[ns]\n",
      "dtypes: datetime64[ns](4), int64(1), string(7)\n",
      "memory usage: 268.8 MB\n"
     ]
    }
   ],
   "source": [
    "req_df.info()"
   ]
  },
  {
   "cell_type": "code",
   "execution_count": 511,
   "id": "c24a1013-9505-44c4-9bbe-bdfa24b3fc13",
   "metadata": {},
   "outputs": [
    {
     "data": {
      "text/plain": [
       "(2936369, 12)"
      ]
     },
     "execution_count": 511,
     "metadata": {},
     "output_type": "execute_result"
    }
   ],
   "source": [
    "req_df.shape"
   ]
  },
  {
   "cell_type": "markdown",
   "id": "54e79dad-88e8-4d32-8cdd-00fbb5c01a2b",
   "metadata": {},
   "source": [
    "After cleaning, the 311 Requests dataset has 2,936,369 rows with 12 columns."
   ]
  },
  {
   "cell_type": "markdown",
   "id": "e906e379-9f63-4ee4-955d-c973b577d4a5",
   "metadata": {},
   "source": [
    "---"
   ]
  },
  {
   "cell_type": "markdown",
   "id": "6491d8b1-ea96-451a-aae0-9eafcdd1f94c",
   "metadata": {},
   "source": [
    "Cleaning the median household income data. See the overview of all columns [here](https://github.com/heriberto00/Capstone/blob/main/data/Median%20Income%20Overview.md)."
   ]
  },
  {
   "cell_type": "code",
   "execution_count": 512,
   "id": "e03672ee-5fe2-467f-925e-31dbbc086379",
   "metadata": {},
   "outputs": [],
   "source": [
    "# importing median income data\n",
    "income_df = pd.read_csv(\"median_income.csv\")"
   ]
  },
  {
   "cell_type": "code",
   "execution_count": 513,
   "id": "1f6fc1e5-2eb3-4040-abef-b632a6973148",
   "metadata": {},
   "outputs": [
    {
     "data": {
      "text/plain": [
       "0"
      ]
     },
     "execution_count": 513,
     "metadata": {},
     "output_type": "execute_result"
    }
   ],
   "source": [
    "income_df.duplicated().sum()"
   ]
  },
  {
   "cell_type": "code",
   "execution_count": 514,
   "id": "ab9975b3-be3a-4295-baf0-f79e6737144d",
   "metadata": {},
   "outputs": [
    {
     "name": "stdout",
     "output_type": "stream",
     "text": [
      "<class 'pandas.core.frame.DataFrame'>\n",
      "RangeIndex: 180 entries, 0 to 179\n",
      "Data columns (total 2 columns):\n",
      " #   Column              Non-Null Count  Dtype\n",
      "---  ------              --------------  -----\n",
      " 0   zip                 180 non-null    int64\n",
      " 1   median_income_2022  180 non-null    int64\n",
      "dtypes: int64(2)\n",
      "memory usage: 2.9 KB\n"
     ]
    }
   ],
   "source": [
    "income_df.info()"
   ]
  },
  {
   "cell_type": "code",
   "execution_count": 515,
   "id": "cdfce834-32cd-4e5e-bc5a-65531d32f89d",
   "metadata": {},
   "outputs": [],
   "source": [
    "# no invalid or duplicated values, we only need to change column names to match 311 requests dataset\n",
    "income_df = income_df.rename(columns={\"zip\":\"incident_zip\"})"
   ]
  },
  {
   "cell_type": "markdown",
   "id": "1eced216-02ae-44a1-a42a-d8d53eb886fb",
   "metadata": {},
   "source": [
    "After cleaning, median household income dataset has 180 rows with 2 columns."
   ]
  },
  {
   "cell_type": "markdown",
   "id": "f147f495-0784-427d-8843-0060007eb972",
   "metadata": {},
   "source": [
    "---"
   ]
  },
  {
   "cell_type": "markdown",
   "id": "e3d77cc1-61cd-4f47-8a03-2336b7f035e5",
   "metadata": {},
   "source": [
    "Cleaning poverty rate data. See the overview of all columns [here](https://github.com/heriberto00/Capstone/blob/main/data/Poverty%20Rate%20Overview.md). "
   ]
  },
  {
   "cell_type": "code",
   "execution_count": 516,
   "id": "13d4b4cc-540a-467d-a444-95c405c30c7c",
   "metadata": {},
   "outputs": [],
   "source": [
    "# importing poverty rate data\n",
    "poverty_df = pd.read_csv(\"poverty_rate.csv\")"
   ]
  },
  {
   "cell_type": "code",
   "execution_count": 517,
   "id": "f0413579-6c68-4c89-82dc-ba87125c4d8f",
   "metadata": {},
   "outputs": [],
   "source": [
    "# only keep location and poverty rate related columns\n",
    "poverty_df = poverty_df[[\"Sub-Borough Area\", \"2021\"]]"
   ]
  },
  {
   "cell_type": "code",
   "execution_count": 518,
   "id": "fb35c97a-87db-44e7-b695-7b4ba47076b6",
   "metadata": {},
   "outputs": [
    {
     "data": {
      "text/plain": [
       "0"
      ]
     },
     "execution_count": 518,
     "metadata": {},
     "output_type": "execute_result"
    }
   ],
   "source": [
    "poverty_df.duplicated().sum()"
   ]
  },
  {
   "cell_type": "code",
   "execution_count": 519,
   "id": "b6c5284b-5320-47c1-8b7d-cf1979bc4edb",
   "metadata": {},
   "outputs": [
    {
     "name": "stdout",
     "output_type": "stream",
     "text": [
      "<class 'pandas.core.frame.DataFrame'>\n",
      "RangeIndex: 55 entries, 0 to 54\n",
      "Data columns (total 2 columns):\n",
      " #   Column            Non-Null Count  Dtype  \n",
      "---  ------            --------------  -----  \n",
      " 0   Sub-Borough Area  55 non-null     object \n",
      " 1   2021              55 non-null     float64\n",
      "dtypes: float64(1), object(1)\n",
      "memory usage: 1012.0+ bytes\n"
     ]
    }
   ],
   "source": [
    "poverty_df.info()"
   ]
  },
  {
   "cell_type": "code",
   "execution_count": 520,
   "id": "70cb0add-d71e-4714-ab96-b400900f6553",
   "metadata": {},
   "outputs": [],
   "source": [
    "poverty_df['Sub-Borough Area'] = poverty_df['Sub-Borough Area'].astype(\"string\")"
   ]
  },
  {
   "cell_type": "code",
   "execution_count": 521,
   "id": "4d4f9fe9-d3ec-4632-a95f-648d993e409e",
   "metadata": {},
   "outputs": [],
   "source": [
    "# no invalid or duplicated values, we only need to change column names for easier manipulation\n",
    "poverty_df = poverty_df.rename(columns={\"Sub-Borough Area\":\"sub_borough_area\", \"2021\":\"poverty_rate_2021\"})"
   ]
  },
  {
   "cell_type": "markdown",
   "id": "b10a8c06-4bf3-464e-b2e6-0ad80d98800e",
   "metadata": {},
   "source": [
    "After cleaning, poverty rate dataset has 55 rows with 2 columns."
   ]
  },
  {
   "cell_type": "markdown",
   "id": "3e71c779-aa84-46fb-8195-4cc2ecb8c433",
   "metadata": {},
   "source": [
    "---"
   ]
  },
  {
   "cell_type": "markdown",
   "id": "fa7cf30d-677d-4ffe-94a7-054746a93f6b",
   "metadata": {},
   "source": [
    "Cleaning racial diversity index data. See the overview of all columns [here](https://github.com/heriberto00/Capstone/blob/main/data/Racial%20Diversity%20Index%20Overview.md)."
   ]
  },
  {
   "cell_type": "code",
   "execution_count": 522,
   "id": "0ad0b18b-09f4-4534-8bf0-fbb0f2ef558c",
   "metadata": {},
   "outputs": [],
   "source": [
    "# importing racial diversity index data\n",
    "diversity_df = pd.read_csv(\"racial_diversity_index.csv\")"
   ]
  },
  {
   "cell_type": "code",
   "execution_count": 523,
   "id": "c70cb2f0-4b5d-4f7f-8882-48b8ae8bd1d5",
   "metadata": {},
   "outputs": [],
   "source": [
    "# only keep location and diversity index related columns\n",
    "diversity_df = diversity_df[[\"Sub-Borough Area\", \"2021\"]]"
   ]
  },
  {
   "cell_type": "code",
   "execution_count": 524,
   "id": "89d79268-82ab-49bc-83d0-9f636a412b89",
   "metadata": {},
   "outputs": [
    {
     "data": {
      "text/plain": [
       "0"
      ]
     },
     "execution_count": 524,
     "metadata": {},
     "output_type": "execute_result"
    }
   ],
   "source": [
    "diversity_df.duplicated().sum()"
   ]
  },
  {
   "cell_type": "code",
   "execution_count": 525,
   "id": "90bf0e2b-816e-412e-9e4d-b4d9df310081",
   "metadata": {},
   "outputs": [
    {
     "name": "stdout",
     "output_type": "stream",
     "text": [
      "<class 'pandas.core.frame.DataFrame'>\n",
      "RangeIndex: 55 entries, 0 to 54\n",
      "Data columns (total 2 columns):\n",
      " #   Column            Non-Null Count  Dtype  \n",
      "---  ------            --------------  -----  \n",
      " 0   Sub-Borough Area  55 non-null     object \n",
      " 1   2021              55 non-null     float64\n",
      "dtypes: float64(1), object(1)\n",
      "memory usage: 1012.0+ bytes\n"
     ]
    }
   ],
   "source": [
    "diversity_df.info()"
   ]
  },
  {
   "cell_type": "code",
   "execution_count": 526,
   "id": "8d0c95e7-7de1-49ca-83ae-899624be0fcb",
   "metadata": {},
   "outputs": [],
   "source": [
    "# no invalid or duplicated values, we only need to change column names for easier manipulation\n",
    "diversity_df = diversity_df.rename(columns={\"Sub-Borough Area\":\"sub_borough_area\", \"2021\":\"diversity_index_2021\"})"
   ]
  },
  {
   "cell_type": "markdown",
   "id": "34d35149-23da-4c87-b38f-46056857e288",
   "metadata": {},
   "source": [
    "After cleaning, diversity index dataset has 55 rows with 2 columns."
   ]
  },
  {
   "cell_type": "markdown",
   "id": "0814052c-2e76-47cd-a39d-1660ec95d265",
   "metadata": {},
   "source": [
    "---"
   ]
  },
  {
   "cell_type": "markdown",
   "id": "882aca36-9415-491f-851e-db824ba24ea6",
   "metadata": {},
   "source": [
    "## Data preprocessing and preliminary EDA."
   ]
  },
  {
   "cell_type": "markdown",
   "id": "5b6d3892-253b-4a9f-8dff-902581af709d",
   "metadata": {},
   "source": [
    "First, I'll join the main 311 Requests dataset with the relevant columns extracted from the racial diversity index data, poverty rate data, and median household income data."
   ]
  },
  {
   "cell_type": "code",
   "execution_count": 527,
   "id": "04aaa241-d582-429a-8142-02c037459ba5",
   "metadata": {},
   "outputs": [],
   "source": [
    "# we can easily join these 2 datasets, using the many-to-one validation parameter to double-check we only get one value per ZIP code\n",
    "req_df = req_df.merge(income_df, on=\"incident_zip\", how=\"left\", validate=\"m:1\")"
   ]
  },
  {
   "cell_type": "markdown",
   "id": "10a32e98-1dd4-4650-aecd-e4f54e9dfb32",
   "metadata": {},
   "source": [
    "The closest location attribute that can be used from the 311 Requests dataset to join with  the racial diversity index and poverty rate datasets is the ```community_board``` column. These can be joined to each corresponding ```sub_borough_area```, given community board divisions closely resemble sub-borough divisions."
   ]
  },
  {
   "cell_type": "markdown",
   "id": "0e90e1ab-6655-4169-895e-f50c84f01253",
   "metadata": {},
   "source": [
    "Community boards in NYC are advisory boards made up of community members. They make important recommendations about land use, zoning, and other local issues. These are comprised of multiple neighborhoods, and by using NYC OpenData's [\"NYC Community Boards\"](https://data.cityofnewyork.us/City-Government/NYC-Community-Boards/ruf7-3wgc/about_data) dataset and this [NYC Sub-Borough map](https://github.com/heriberto00/Capstone/blob/main/data/datasets/subboro.pdf), I was able to find and assign the corresponding ```community_board``` to each ```sub_borough_area``` in the racial diversity index and poverty rate datasets using the ```neighborhoods``` value in the community boards dataset. You can see the overview of columns in the \"NYC Community Boards\" dataset [here](https://github.com/heriberto00/Capstone/blob/main/data/NYC%20Community%20Boards%20Overview.md)."
   ]
  },
  {
   "cell_type": "markdown",
   "id": "0e0296ea-b2cd-4ff5-97f2-c37e5e393c79",
   "metadata": {},
   "source": [
    "I manually went through the community boards dataset and assigned each sub-borough the closest corresponding value. I understand this is not ideal, and I'm planning on automating this step in the final version of data preprocessing."
   ]
  },
  {
   "cell_type": "code",
   "execution_count": 528,
   "id": "3718c6b4-420a-4ab1-808b-8e0314bd0bd3",
   "metadata": {},
   "outputs": [
    {
     "name": "stderr",
     "output_type": "stream",
     "text": [
      "/var/folders/pr/nn4kwc9x6qs3_2gfmhsfv1vr0000gn/T/ipykernel_79264/3850970075.py:2: FutureWarning: Setting an item of incompatible dtype is deprecated and will raise in a future error of pandas. Value '02 MANHATTAN' has dtype incompatible with float64, please explicitly cast to a compatible dtype first.\n",
      "  poverty_df.loc[poverty_df['sub_borough_area'] == 'Greenwich Village/Financial District', ['community_board']] = '02 MANHATTAN'\n"
     ]
    }
   ],
   "source": [
    "# manually assigning each community_board depening on sub_borough_area\n",
    "poverty_df.loc[poverty_df['sub_borough_area'] == 'Greenwich Village/Financial District', ['community_board']] = '02 MANHATTAN'\n",
    "poverty_df.loc[poverty_df['sub_borough_area'] == 'Lower East Side/Chinatown', ['community_board']] = '03 MANHATTAN'\n",
    "poverty_df.loc[poverty_df['sub_borough_area'] == 'Kingsbridge Heights/Mosholu', ['community_board']] = '07 BRONX'\n",
    "poverty_df.loc[poverty_df['sub_borough_area'] == 'Riverdale/Kingsbridge', ['community_board']] = '08 BRONX'\n",
    "poverty_df.loc[poverty_df['sub_borough_area'] == 'Soundview/Parkchester', ['community_board']] = '09 BRONX'\n",
    "poverty_df.loc[poverty_df['sub_borough_area'] == 'Throgs Neck/Co-op City', ['community_board']] = '10 BRONX'\n",
    "poverty_df.loc[poverty_df['sub_borough_area'] == 'Pelham Parkway', ['community_board']] = '11 BRONX'\n",
    "poverty_df.loc[poverty_df['sub_borough_area'] == 'Williamsbridge/Baychester', ['community_board']] = '12 BRONX'\n",
    "poverty_df.loc[poverty_df['sub_borough_area'] == 'Williamsburg/Greenpoint', ['community_board']] = '01 BROOKLYN'\n",
    "poverty_df.loc[poverty_df['sub_borough_area'] == 'Brooklyn Heights/Fort Greene', ['community_board']] = '02 BROOKLYN'\n",
    "poverty_df.loc[poverty_df['sub_borough_area'] == 'Bedford Stuyvesant', ['community_board']] = '03 BROOKLYN'\n",
    "poverty_df.loc[poverty_df['sub_borough_area'] == 'Bushwick', ['community_board']] = '04 BROOKLYN'\n",
    "poverty_df.loc[poverty_df['sub_borough_area'] == 'East New York/Starrett City', ['community_board']] = '05 BROOKLYN'\n",
    "poverty_df.loc[poverty_df['sub_borough_area'] == 'Park Slope/Carroll Gardens', ['community_board']] = '06 BROOKLYN'\n",
    "poverty_df.loc[poverty_df['sub_borough_area'] == 'Sunset Park', ['community_board']] = '07 BROOKLYN'\n",
    "poverty_df.loc[poverty_df['sub_borough_area'] == 'North Crown Heights/Prospect Heights', ['community_board']] = '08 BROOKLYN'\n",
    "poverty_df.loc[poverty_df['sub_borough_area'] == 'Elmhurst/Corona', ['community_board']] = '04 QUEENS'\n",
    "poverty_df.loc[poverty_df['sub_borough_area'] == 'Middle Village/Ridgewood', ['community_board']] = '05 QUEENS'\n",
    "poverty_df.loc[poverty_df['sub_borough_area'] == 'Rego Park/Forest Hills', ['community_board']] = '06 QUEENS'\n",
    "poverty_df.loc[poverty_df['sub_borough_area'] == 'Flushing/Whitestone', ['community_board']] = '07 QUEENS'\n",
    "poverty_df.loc[poverty_df['sub_borough_area'] == 'Hillcrest/Fresh Meadows', ['community_board']] = '08 QUEENS'\n",
    "poverty_df.loc[poverty_df['sub_borough_area'] == 'Ozone Park/Woodhaven', ['community_board']] = '09 QUEENS'\n",
    "poverty_df.loc[poverty_df['sub_borough_area'] == 'South Ozone Park/Howard Beach', ['community_board']] = '10 QUEENS'\n",
    "poverty_df.loc[poverty_df['sub_borough_area'] == 'Bayside/Little Neck', ['community_board']] = '11 QUEENS'\n",
    "poverty_df.loc[poverty_df['sub_borough_area'] == 'Jamaica', ['community_board']] = '12 QUEENS'\n",
    "poverty_df.loc[poverty_df['sub_borough_area'] == 'Queens Village', ['community_board']] = '13 QUEENS'\n",
    "poverty_df.loc[poverty_df['sub_borough_area'] == 'Rockaways', ['community_board']] = '14 QUEENS'\n",
    "poverty_df.loc[poverty_df['sub_borough_area'] == 'North Shore', ['community_board']] = '01 STATEN ISLAND'\n",
    "poverty_df.loc[poverty_df['sub_borough_area'] == 'Mid-Island', ['community_board']] = '02 STATEN ISLAND'\n",
    "poverty_df.loc[poverty_df['sub_borough_area'] == 'South Shore', ['community_board']] = '03 STATEN ISLAND'\n",
    "poverty_df.loc[poverty_df['sub_borough_area'] == 'Chelsea/Clinton/Midtown', ['community_board']] = '04 MANHATTAN'\n",
    "poverty_df.loc[poverty_df['sub_borough_area'] == 'Stuyvesant Town/Turtle Bay', ['community_board']] = '06 MANHATTAN'\n",
    "poverty_df.loc[poverty_df['sub_borough_area'] == 'Upper West Side', ['community_board']] = '07 MANHATTAN'\n",
    "poverty_df.loc[poverty_df['sub_borough_area'] == 'Upper East Side', ['community_board']] = '08 MANHATTAN'\n",
    "poverty_df.loc[poverty_df['sub_borough_area'] == 'Morningside Heights/Hamilton Heights', ['community_board']] = '09 MANHATTAN'\n",
    "poverty_df.loc[poverty_df['sub_borough_area'] == 'Central Harlem', ['community_board']] = '10 MANHATTAN'\n",
    "poverty_df.loc[poverty_df['sub_borough_area'] == 'East Harlem', ['community_board']] = '11 MANHATTAN'\n",
    "poverty_df.loc[poverty_df['sub_borough_area'] == 'Washington Heights/Inwood', ['community_board']] = '12 MANHATTAN'\n",
    "poverty_df.loc[poverty_df['sub_borough_area'] == 'Mott Haven/Hunts Point', ['community_board']] = '01 BRONX'\n",
    "poverty_df.loc[poverty_df['sub_borough_area'] == 'Morrisania/Belmont', ['community_board']] = '02 BRONX'\n",
    "poverty_df.loc[poverty_df['sub_borough_area'] == 'Highbridge/South Concourse', ['community_board']] = '04 BRONX'\n",
    "poverty_df.loc[poverty_df['sub_borough_area'] == 'University Heights/Fordham', ['community_board']] = '05 BRONX'\n",
    "poverty_df.loc[poverty_df['sub_borough_area'] == 'South Crown Heights', ['community_board']] = '09 BROOKLYN'\n",
    "poverty_df.loc[poverty_df['sub_borough_area'] == 'Bay Ridge', ['community_board']] = '10 BROOKLYN'\n",
    "poverty_df.loc[poverty_df['sub_borough_area'] == 'Bensonhurst', ['community_board']] = '11 BROOKLYN'\n",
    "poverty_df.loc[poverty_df['sub_borough_area'] == 'Borough Park', ['community_board']] = '12 BROOKLYN'\n",
    "poverty_df.loc[poverty_df['sub_borough_area'] == 'Coney Island', ['community_board']] = '13 BROOKLYN'\n",
    "poverty_df.loc[poverty_df['sub_borough_area'] == 'Flatbush', ['community_board']] = '14 BROOKLYN'\n",
    "poverty_df.loc[poverty_df['sub_borough_area'] == 'Sheepshead Bay/Gravesend', ['community_board']] = '15 BROOKLYN'\n",
    "poverty_df.loc[poverty_df['sub_borough_area'] == 'Brownsville/Ocean Hill', ['community_board']] = '16 BROOKLYN'\n",
    "poverty_df.loc[poverty_df['sub_borough_area'] == 'East Flatbush', ['community_board']] = '17 BROOKLYN'\n",
    "poverty_df.loc[poverty_df['sub_borough_area'] == 'Flatlands/Canarsie', ['community_board']] = '18 BROOKLYN'\n",
    "poverty_df.loc[poverty_df['sub_borough_area'] == 'Astoria', ['community_board']] = '01 QUEENS'\n",
    "poverty_df.loc[poverty_df['sub_borough_area'] == 'Sunnyside/Woodside', ['community_board']] = '02 QUEENS'\n",
    "poverty_df.loc[poverty_df['sub_borough_area'] == 'Jackson Heights', ['community_board']] = '03 QUEENS'"
   ]
  },
  {
   "cell_type": "code",
   "execution_count": 529,
   "id": "7b72c682-e9a2-47c8-8341-97f934bcf432",
   "metadata": {},
   "outputs": [],
   "source": [
    "# merge diversity_df with poverty_df to get already assigned community_board values\n",
    "diversity_df = diversity_df.merge(poverty_df[['sub_borough_area','community_board']], on=\"sub_borough_area\", how=\"left\", validate=\"m:1\")"
   ]
  },
  {
   "cell_type": "code",
   "execution_count": 530,
   "id": "194278be-347b-4758-8ebc-fa94d2fe4018",
   "metadata": {},
   "outputs": [],
   "source": [
    "# manually adding index for 05 MANHATTAN community board because of overlapping neighborhoods\n",
    "diversity_df = diversity_df[['diversity_index_2021', 'community_board']]\n",
    "man05 = pd.DataFrame({'diversity_index_2021':[0.584941], 'community_board': ['05 MANHATTAN']})\n",
    "diversity_df = diversity_df._append(man05, ignore_index = True)"
   ]
  },
  {
   "cell_type": "code",
   "execution_count": 531,
   "id": "fe4f7039-a5e9-43d8-8e29-92af578edb29",
   "metadata": {},
   "outputs": [],
   "source": [
    "# manually adding rate for 05 MANHATTAN community board because of overlapping neighborhoods\n",
    "poverty_df = poverty_df[['poverty_rate_2021', 'community_board']]\n",
    "man05 = pd.DataFrame({'poverty_rate_2021':[0.111038], 'community_board': ['05 MANHATTAN']})\n",
    "poverty_df = poverty_df._append(man05, ignore_index = True)"
   ]
  },
  {
   "cell_type": "code",
   "execution_count": 532,
   "id": "c61a0a99-f713-4f60-bced-15cf335d1c3f",
   "metadata": {},
   "outputs": [],
   "source": [
    "# merge dataframes with main dataframe containing 311 requests\n",
    "req_df = req_df.merge(poverty_df[['poverty_rate_2021','community_board']], on=\"community_board\", how=\"left\", validate=\"m:1\")\n",
    "req_df = req_df.merge(diversity_df[['diversity_index_2021','community_board']], on=\"community_board\", how=\"left\", validate=\"m:1\")"
   ]
  },
  {
   "cell_type": "code",
   "execution_count": 533,
   "id": "91823938-53b0-4fb0-b432-b320d9e627c0",
   "metadata": {},
   "outputs": [
    {
     "name": "stdout",
     "output_type": "stream",
     "text": [
      "<class 'pandas.core.frame.DataFrame'>\n",
      "RangeIndex: 2936369 entries, 0 to 2936368\n",
      "Data columns (total 15 columns):\n",
      " #   Column                          Dtype         \n",
      "---  ------                          -----         \n",
      " 0   created_date                    datetime64[ns]\n",
      " 1   agency                          string        \n",
      " 2   agency_name                     string        \n",
      " 3   complaint_type                  string        \n",
      " 4   descriptor                      string        \n",
      " 5   incident_zip                    int64         \n",
      " 6   borough                         string        \n",
      " 7   community_board                 object        \n",
      " 8   resolution_description          string        \n",
      " 9   resolution_action_updated_date  datetime64[ns]\n",
      " 10  closed_date                     datetime64[ns]\n",
      " 11  due_date                        datetime64[ns]\n",
      " 12  median_income_2022              float64       \n",
      " 13  poverty_rate_2021               float64       \n",
      " 14  diversity_index_2021            float64       \n",
      "dtypes: datetime64[ns](4), float64(3), int64(1), object(1), string(6)\n",
      "memory usage: 336.0+ MB\n"
     ]
    }
   ],
   "source": [
    "req_df.info()"
   ]
  },
  {
   "cell_type": "code",
   "execution_count": 534,
   "id": "0073c3b2-9519-4b24-8116-65f013c82958",
   "metadata": {
    "scrolled": true
   },
   "outputs": [
    {
     "data": {
      "text/plain": [
       "(2936369, 15)"
      ]
     },
     "execution_count": 534,
     "metadata": {},
     "output_type": "execute_result"
    }
   ],
   "source": [
    "req_df.shape"
   ]
  },
  {
   "cell_type": "markdown",
   "id": "98236d5d-85a6-4327-b109-f1960b43b190",
   "metadata": {},
   "source": [
    "Merged dataframes contain 2,936,369 rows and 15 columns."
   ]
  },
  {
   "cell_type": "markdown",
   "id": "8c38b593-14b5-467b-a3d6-67484920bbfd",
   "metadata": {},
   "source": [
    "---"
   ]
  },
  {
   "cell_type": "markdown",
   "id": "8d0d160a-6cda-493b-af82-e96577b9421c",
   "metadata": {},
   "source": [
    "See premilimary EDA below."
   ]
  },
  {
   "cell_type": "code",
   "execution_count": 535,
   "id": "378376b7-badf-48bc-abfc-a13882f4cecb",
   "metadata": {},
   "outputs": [
    {
     "data": {
      "text/html": [
       "<div>\n",
       "<style scoped>\n",
       "    .dataframe tbody tr th:only-of-type {\n",
       "        vertical-align: middle;\n",
       "    }\n",
       "\n",
       "    .dataframe tbody tr th {\n",
       "        vertical-align: top;\n",
       "    }\n",
       "\n",
       "    .dataframe thead th {\n",
       "        text-align: right;\n",
       "    }\n",
       "</style>\n",
       "<table border=\"1\" class=\"dataframe\">\n",
       "  <thead>\n",
       "    <tr style=\"text-align: right;\">\n",
       "      <th></th>\n",
       "      <th>created_date</th>\n",
       "      <th>agency</th>\n",
       "      <th>agency_name</th>\n",
       "      <th>complaint_type</th>\n",
       "      <th>descriptor</th>\n",
       "      <th>incident_zip</th>\n",
       "      <th>borough</th>\n",
       "      <th>community_board</th>\n",
       "      <th>resolution_description</th>\n",
       "      <th>resolution_action_updated_date</th>\n",
       "      <th>closed_date</th>\n",
       "      <th>due_date</th>\n",
       "      <th>median_income_2022</th>\n",
       "      <th>poverty_rate_2021</th>\n",
       "      <th>diversity_index_2021</th>\n",
       "    </tr>\n",
       "  </thead>\n",
       "  <tbody>\n",
       "    <tr>\n",
       "      <th>0</th>\n",
       "      <td>2023-06-10 21:11:28</td>\n",
       "      <td>NYPD</td>\n",
       "      <td>New York City Police Department</td>\n",
       "      <td>Non-Emergency Police Matter</td>\n",
       "      <td>Other (complaint details)</td>\n",
       "      <td>10465</td>\n",
       "      <td>BRONX</td>\n",
       "      <td>10 BRONX</td>\n",
       "      <td>The Police Department responded to the complai...</td>\n",
       "      <td>2023-06-10 21:27:28</td>\n",
       "      <td>2023-06-10 21:27:23</td>\n",
       "      <td>NaT</td>\n",
       "      <td>80245.0</td>\n",
       "      <td>0.139823</td>\n",
       "      <td>0.690039</td>\n",
       "    </tr>\n",
       "  </tbody>\n",
       "</table>\n",
       "</div>"
      ],
      "text/plain": [
       "         created_date agency                      agency_name  \\\n",
       "0 2023-06-10 21:11:28   NYPD  New York City Police Department   \n",
       "\n",
       "                complaint_type                 descriptor  incident_zip  \\\n",
       "0  Non-Emergency Police Matter  Other (complaint details)         10465   \n",
       "\n",
       "  borough community_board                             resolution_description  \\\n",
       "0   BRONX        10 BRONX  The Police Department responded to the complai...   \n",
       "\n",
       "  resolution_action_updated_date         closed_date due_date  \\\n",
       "0            2023-06-10 21:27:28 2023-06-10 21:27:23      NaT   \n",
       "\n",
       "   median_income_2022  poverty_rate_2021  diversity_index_2021  \n",
       "0             80245.0           0.139823              0.690039  "
      ]
     },
     "execution_count": 535,
     "metadata": {},
     "output_type": "execute_result"
    }
   ],
   "source": [
    "req_df.head(1)"
   ]
  },
  {
   "cell_type": "markdown",
   "id": "f11b854b-d7ec-4a14-9f18-515f7348c8ae",
   "metadata": {},
   "source": [
    "Earliest request is from 2023-06-10."
   ]
  },
  {
   "cell_type": "code",
   "execution_count": 415,
   "id": "a315a877-f8d4-4b6e-9133-effaf3df3456",
   "metadata": {},
   "outputs": [
    {
     "data": {
      "text/html": [
       "<div>\n",
       "<style scoped>\n",
       "    .dataframe tbody tr th:only-of-type {\n",
       "        vertical-align: middle;\n",
       "    }\n",
       "\n",
       "    .dataframe tbody tr th {\n",
       "        vertical-align: top;\n",
       "    }\n",
       "\n",
       "    .dataframe thead th {\n",
       "        text-align: right;\n",
       "    }\n",
       "</style>\n",
       "<table border=\"1\" class=\"dataframe\">\n",
       "  <thead>\n",
       "    <tr style=\"text-align: right;\">\n",
       "      <th></th>\n",
       "      <th>created_date</th>\n",
       "      <th>agency</th>\n",
       "      <th>agency_name</th>\n",
       "      <th>complaint_type</th>\n",
       "      <th>descriptor</th>\n",
       "      <th>incident_zip</th>\n",
       "      <th>borough</th>\n",
       "      <th>community_board</th>\n",
       "      <th>resolution_description</th>\n",
       "      <th>resolution_action_updated_date</th>\n",
       "      <th>closed_date</th>\n",
       "      <th>due_date</th>\n",
       "      <th>median_income_2022</th>\n",
       "      <th>poverty_rate_2021</th>\n",
       "      <th>diversity_index_2021</th>\n",
       "    </tr>\n",
       "  </thead>\n",
       "  <tbody>\n",
       "    <tr>\n",
       "      <th>2936368</th>\n",
       "      <td>2024-05-06 00:57:00</td>\n",
       "      <td>DOT</td>\n",
       "      <td>Department of Transportation</td>\n",
       "      <td>Traffic Signal Condition</td>\n",
       "      <td>Controller</td>\n",
       "      <td>10024</td>\n",
       "      <td>MANHATTAN</td>\n",
       "      <td>07 MANHATTAN</td>\n",
       "      <td>&lt;NA&gt;</td>\n",
       "      <td>NaT</td>\n",
       "      <td>NaT</td>\n",
       "      <td>NaT</td>\n",
       "      <td>153177.0</td>\n",
       "      <td>0.103805</td>\n",
       "      <td>0.560142</td>\n",
       "    </tr>\n",
       "  </tbody>\n",
       "</table>\n",
       "</div>"
      ],
      "text/plain": [
       "               created_date agency                   agency_name  \\\n",
       "2936368 2024-05-06 00:57:00    DOT  Department of Transportation   \n",
       "\n",
       "                   complaint_type  descriptor  incident_zip    borough  \\\n",
       "2936368  Traffic Signal Condition  Controller         10024  MANHATTAN   \n",
       "\n",
       "        community_board resolution_description resolution_action_updated_date  \\\n",
       "2936368    07 MANHATTAN                   <NA>                            NaT   \n",
       "\n",
       "        closed_date due_date  median_income_2022  poverty_rate_2021  \\\n",
       "2936368         NaT      NaT            153177.0           0.103805   \n",
       "\n",
       "         diversity_index_2021  \n",
       "2936368              0.560142  "
      ]
     },
     "execution_count": 415,
     "metadata": {},
     "output_type": "execute_result"
    }
   ],
   "source": [
    "req_df.tail(1)"
   ]
  },
  {
   "cell_type": "markdown",
   "id": "89bcc848-4836-4aa6-9f97-6ab9dfe1c341",
   "metadata": {},
   "source": [
    "Latest request is from 2024-05-06."
   ]
  },
  {
   "cell_type": "code",
   "execution_count": 564,
   "id": "08a43c5f-fe04-4e15-9fb8-f9cfdca1a6ce",
   "metadata": {},
   "outputs": [
    {
     "data": {
      "text/plain": [
       "<StringArray>\n",
       "['Non-Emergency Police Matter',         'Noise - Residential',\n",
       "             'Noise - Vehicle',     'Noise - Street/Sidewalk',\n",
       "       'Real Time Enforcement',                'Noise - Park',\n",
       "          'Noise - Commercial',            'Blocked Driveway',\n",
       "             'Illegal Parking',               'Lot Condition',\n",
       " ...\n",
       "  'DOB Posted Notice or Order',   'Public Payphone Complaint',\n",
       "        'Non-Residential Heat',              'Unlicensed Dog',\n",
       "    'Building Marshals office',         'Seasonal Collection',\n",
       "                         'SNW',   \"Building Marshal's Office\",\n",
       "       'Executive Inspections',  'Sustainability Enforcement']\n",
       "Length: 201, dtype: string"
      ]
     },
     "execution_count": 564,
     "metadata": {},
     "output_type": "execute_result"
    }
   ],
   "source": [
    "req_df['complaint_type'].unique()"
   ]
  },
  {
   "cell_type": "markdown",
   "id": "5aa42d70-92ec-4a66-b95d-700db7458be8",
   "metadata": {},
   "source": [
    "We have 201 unique complaint types, ideally I'll be able to reconcile them. With a quick glance we can see that there are multiple types of noise complaints that can be easily reconciled. Further cleaning and analysis will be done to better represent complaint types in the final version of EDA."
   ]
  },
  {
   "cell_type": "code",
   "execution_count": 574,
   "id": "d0b1e80f-9d18-4fa2-ae20-f1ee93f3a0aa",
   "metadata": {},
   "outputs": [
    {
     "data": {
      "text/plain": [
       "Timedelta('324 days 10:24:33')"
      ]
     },
     "execution_count": 574,
     "metadata": {},
     "output_type": "execute_result"
    }
   ],
   "source": [
    "np.max(req_df['closed_date'] - req_df['created_date'])"
   ]
  },
  {
   "cell_type": "markdown",
   "id": "63997b1f-fce1-4791-ad55-05cb162ac713",
   "metadata": {},
   "source": [
    "Roughly, the max resolution time of a service request was 324 days and 10 hours."
   ]
  },
  {
   "cell_type": "code",
   "execution_count": 575,
   "id": "57a88ffc-4213-4ec9-b474-0a7e547637c9",
   "metadata": {},
   "outputs": [
    {
     "data": {
      "text/plain": [
       "Timedelta('6 days 20:45:16.109208602')"
      ]
     },
     "execution_count": 575,
     "metadata": {},
     "output_type": "execute_result"
    }
   ],
   "source": [
    "np.mean(req_df['closed_date'] - req_df['created_date'])"
   ]
  },
  {
   "cell_type": "markdown",
   "id": "c2cd10c1-7239-4404-8053-acfba2e0e5c6",
   "metadata": {},
   "source": [
    "Roughly, it takes 6 days and 20 hours on average for a service request to be closed."
   ]
  },
  {
   "cell_type": "markdown",
   "id": "ec8dec76-00ff-4ebe-bd7c-f5fa716dcacf",
   "metadata": {},
   "source": [
    "This tells us there's potential outliers in the distribution of resolution times for service requests. Further analysis on this distribution will be done on for the final version of EDA."
   ]
  },
  {
   "cell_type": "code",
   "execution_count": 416,
   "id": "05932525-dee1-4909-85cd-09644fccacc9",
   "metadata": {},
   "outputs": [],
   "source": [
    "# group by borough to get total requests made, ignore \"uncategorized\" since it's not a significant amount of requests\n",
    "borough_totals = req_df.groupby(by=\"borough\").count()\n",
    "borough_totals = borough_totals.loc[borough_totals['created_date'] > 400]"
   ]
  },
  {
   "cell_type": "code",
   "execution_count": 418,
   "id": "5007c00a-0d4b-4dbe-8ed7-b3fbbe79cb9e",
   "metadata": {},
   "outputs": [
    {
     "data": {
      "image/png": "[encoded data removed]",
      "text/plain": [
       "<Figure size 960x640 with 1 Axes>"
      ]
     },
     "metadata": {},
     "output_type": "display_data"
    },
    {
     "data": {
      "text/plain": [
       "<Figure size 640x480 with 0 Axes>"
      ]
     },
     "metadata": {},
     "output_type": "display_data"
    }
   ],
   "source": [
    "# use squarefy to produce treemap of amount of requests per borough\n",
    "cmap = matplotlib.cm.Purples\n",
    "mini = min(borough_totals['created_date'])\n",
    "maxi = max(borough_totals['created_date'])\n",
    "norm = matplotlib.colors.Normalize(vmin=mini, vmax=maxi)\n",
    "colors = [cmap(norm(total)) for total in borough_totals['created_date']]\n",
    "labels = [f'{borough} ({str(total)})' for borough, total in zip(borough_totals.index.values, borough_totals['created_date'])]\n",
    "\n",
    "plt.figure(figsize=(12,8), dpi= 80)\n",
    "squarify.plot(sizes=borough_totals['created_date'], label=labels, alpha=.8, color=colors, text_kwargs={'fontsize':14})\n",
    "plt.axis('off')\n",
    "plt.show()\n",
    "plt.savefig('requests_per_borough.png')"
   ]
  },
  {
   "cell_type": "markdown",
   "id": "125be6fe-4e85-4cf7-898d-328c5c4a91ff",
   "metadata": {},
   "source": [
    "We can see most requests are made from Brooklyn, with 916,833 total requests. Queens comes in second, then Manhattan, the Bronx, and Staten Island in last place. Population sizes and distribution are aspects worth exploring to see how representative these values are."
   ]
  },
  {
   "cell_type": "markdown",
   "id": "4dd16776-46e2-4646-84d8-cd228bed8bca",
   "metadata": {},
   "source": [
    "I'd like to get some insight on the amount of requests made per month, to see if there are any interesting trends. This analysis should not be considered complete or representative, since we're not retrieving data for a complete year. In the final version of EDA, I'll look into retrieving rows from all months of the year to get a more significant picture."
   ]
  },
  {
   "cell_type": "code",
   "execution_count": 419,
   "id": "7a076f31-7bb6-4f10-899d-150ff5395f87",
   "metadata": {},
   "outputs": [],
   "source": [
    "# group by month and year to get totals\n",
    "monthly_totals = req_df.groupby(by=[req_df.created_date.dt.month, req_df.created_date.dt.year]).count()\n",
    "monthly_totals.index.rename(['month', 'year'], inplace=True)\n",
    "monthly_totals = monthly_totals[['created_date']]"
   ]
  },
  {
   "cell_type": "code",
   "execution_count": 420,
   "id": "a6b051fe-7262-43ab-af70-ee95801ebf07",
   "metadata": {},
   "outputs": [],
   "source": [
    "# separate by year since I don't currently have consistent monthly data for both years\n",
    "monthly_totals_2023 = monthly_totals[monthly_totals.index.get_level_values(\"year\").isin([2023])]\n",
    "monthly_totals_2023.reset_index(inplace=True)\n",
    "monthly_totals_2024 = monthly_totals[monthly_totals.index.get_level_values(\"year\").isin([2024])]\n",
    "monthly_totals_2024.reset_index(inplace=True)"
   ]
  },
  {
   "cell_type": "code",
   "execution_count": 422,
   "id": "eb5afef5-4469-45d7-90cb-ae6eba611f98",
   "metadata": {},
   "outputs": [
    {
     "data": {
      "image/png": "[encoded data removed]",
      "text/plain": [
       "<Figure size 640x480 with 1 Axes>"
      ]
     },
     "metadata": {},
     "output_type": "display_data"
    },
    {
     "data": {
      "text/plain": [
       "<Figure size 640x480 with 0 Axes>"
      ]
     },
     "metadata": {},
     "output_type": "display_data"
    }
   ],
   "source": [
    "sns.set(style=\"whitegrid\", color_codes=True)\n",
    "sns.barplot(x='month', y='created_date', data=monthly_totals_2023, color='#C6B5ED')\n",
    "plt.title('Total requests per Month (2023)')\n",
    "plt.xticks(np.arange(0,7),['Jun','Jul','Aug', 'Sep', 'Oct', 'Nov', 'Dec'])\n",
    "plt.axhline(y=np.nanmedian(monthly_totals_2023['created_date']), color='red')\n",
    "plt.xlabel('Month')\n",
    "plt.ylabel('Total Requests')\n",
    "plt.show()\n",
    "plt.savefig('2023_requests_per_month.png')"
   ]
  },
  {
   "cell_type": "code",
   "execution_count": 423,
   "id": "e87373be-31c8-44fc-97cf-c119d77940f1",
   "metadata": {},
   "outputs": [
    {
     "data": {
      "image/png": "[encoded data removed]",
      "text/plain": [
       "<Figure size 640x480 with 1 Axes>"
      ]
     },
     "metadata": {},
     "output_type": "display_data"
    },
    {
     "data": {
      "text/plain": [
       "<Figure size 640x480 with 0 Axes>"
      ]
     },
     "metadata": {},
     "output_type": "display_data"
    }
   ],
   "source": [
    "sns.set(style=\"whitegrid\", color_codes=True)\n",
    "sns.barplot(x='month', y='created_date', data=monthly_totals_2024, color='#C6B5ED')\n",
    "plt.title('Total requests per Month (2024)')\n",
    "plt.xticks(np.arange(0,5),['Jan','Feb','Mar', 'Apr', 'May'])\n",
    "plt.axhline(y=np.nanmedian(monthly_totals_2024['created_date']), color='red')\n",
    "plt.xlabel('Month')\n",
    "plt.ylabel('Total Requests')\n",
    "plt.show()\n",
    "plt.savefig('2024_requests_per_month.png')"
   ]
  },
  {
   "cell_type": "markdown",
   "id": "c54e2bb2-deec-48ba-a1a4-825f4fb04e54",
   "metadata": {},
   "source": [
    "I'm interested in the share of requests that have a registered resolution date, this should show the amount of data I'll be able to use in a model to predict the resolution time of a service request."
   ]
  },
  {
   "cell_type": "code",
   "execution_count": 432,
   "id": "0c766aee-4f04-4516-94a4-a3ac10d794c3",
   "metadata": {},
   "outputs": [],
   "source": [
    "closed_req = req_df[req_df['closed_date'].notnull()]\n",
    "not_closed_req = req_df[req_df['closed_date'].isnull()]"
   ]
  },
  {
   "cell_type": "code",
   "execution_count": 433,
   "id": "358b98f9-802a-4769-9c04-ce90f1e9e083",
   "metadata": {},
   "outputs": [
    {
     "data": {
      "text/plain": [
       "(2768042, 15)"
      ]
     },
     "execution_count": 433,
     "metadata": {},
     "output_type": "execute_result"
    }
   ],
   "source": [
    "closed_req.shape"
   ]
  },
  {
   "cell_type": "code",
   "execution_count": 434,
   "id": "264f3154-0690-4027-8278-9f5c34f66e17",
   "metadata": {},
   "outputs": [
    {
     "data": {
      "text/plain": [
       "(168327, 15)"
      ]
     },
     "execution_count": 434,
     "metadata": {},
     "output_type": "execute_result"
    }
   ],
   "source": [
    "not_closed_req.shape"
   ]
  },
  {
   "cell_type": "markdown",
   "id": "e1568fb1-5a05-4f27-b7ae-9b6ac9579427",
   "metadata": {},
   "source": [
    "2,768,042 requests have a closed date, and 168,327 don't. This tells us the majority get a closed date, further analysis using ```resolution_description``` can tell us more about what actions are being registered as resolutions."
   ]
  },
  {
   "cell_type": "code",
   "execution_count": 441,
   "id": "294f2f19-2b83-4139-aa50-c349c818153c",
   "metadata": {},
   "outputs": [
    {
     "data": {
      "image/png": "[encoded data removed]",
      "text/plain": [
       "<Figure size 640x480 with 1 Axes>"
      ]
     },
     "metadata": {},
     "output_type": "display_data"
    },
    {
     "data": {
      "text/plain": [
       "<Figure size 640x480 with 0 Axes>"
      ]
     },
     "metadata": {},
     "output_type": "display_data"
    }
   ],
   "source": [
    "plt.pie([2768042, 168327], labels=['Closed', 'Not Closed'], colors= ['#C6B5ED', '#9F2B68'], autopct='%.0f%%')\n",
    "plt.title('Share of total closed requests')\n",
    "plt.show()\n",
    "plt.savefig('requests_closed.png')"
   ]
  },
  {
   "cell_type": "markdown",
   "id": "da12271f-e83c-4e3c-87c9-c2422ab8b802",
   "metadata": {},
   "source": [
    "Another interesting insight is the distribution of the demographic indicators we have so far. Thanks to the initial merge of datasets, we can now get an aggregate by borough."
   ]
  },
  {
   "cell_type": "code",
   "execution_count": 553,
   "id": "226d1122-7ec7-4b64-b084-9d8d4b407787",
   "metadata": {},
   "outputs": [],
   "source": [
    "# group by borough to mean poverty rate and racial diversity index\n",
    "borough_poverty_diversity = req_df[['borough','poverty_rate_2021','diversity_index_2021']].groupby(by=\"borough\").mean()\n",
    "borough_poverty_diversity.dropna(inplace=True)\n",
    "borough_poverty_diversity.reset_index(inplace=True)"
   ]
  },
  {
   "cell_type": "code",
   "execution_count": 554,
   "id": "da2f0197-4b26-4290-836b-ff4f3fde6bd5",
   "metadata": {},
   "outputs": [],
   "source": [
    "# transform dataframe for easier use in grouped bar chart\n",
    "borough_poverty_diversity.set_index('borough', inplace=True)\n",
    "borough_poverty_diversity = borough_poverty_diversity.stack().to_frame('value').reset_index()\n",
    "borough_poverty_diversity.rename(columns={'level_1':'measure'},inplace=True)"
   ]
  },
  {
   "cell_type": "code",
   "execution_count": 563,
   "id": "44e8923d-2c20-46be-bd77-cf1db1fe7499",
   "metadata": {},
   "outputs": [
    {
     "data": {
      "image/png": "[encoded data removed]",
      "text/plain": [
       "<Figure size 640x480 with 1 Axes>"
      ]
     },
     "metadata": {},
     "output_type": "display_data"
    },
    {
     "data": {
      "text/plain": [
       "<Figure size 640x480 with 0 Axes>"
      ]
     },
     "metadata": {},
     "output_type": "display_data"
    }
   ],
   "source": [
    "sns.set(style=\"whitegrid\", color_codes=True)\n",
    "sns.barplot(data=borough_poverty_diversity, x='borough', y='value', hue='measure', palette= ['#9F2B68', '#C6B5ED'])\n",
    "plt.title('Demographic indicators by Borough')\n",
    "plt.xlabel('Borough')\n",
    "plt.ylabel('Mean value')\n",
    "plt.show()\n",
    "plt.savefig('demographics_borough.png')"
   ]
  },
  {
   "cell_type": "markdown",
   "id": "a4da2aa6-a428-454f-a8ce-c9ea4e12fdfd",
   "metadata": {},
   "source": [
    "There is some variation across boroughs for the 2 demographic indicators I've included. The Bronx has the highest mean poverty rate, with the lowest racial diversity index. Queens has the highest mean racial diversity rate, and Staten Island has the lowest poverty rate of all boroughs."
   ]
  },
  {
   "cell_type": "markdown",
   "id": "9cad3201-0295-4687-ac09-605ad16a8489",
   "metadata": {},
   "source": [
    "---"
   ]
  },
  {
   "cell_type": "markdown",
   "id": "d7337943-d559-4b7e-a375-7cc54e7fc011",
   "metadata": {},
   "source": [
    "## Concerns."
   ]
  },
  {
   "cell_type": "markdown",
   "id": "f508ec72-36a6-4dde-991b-9311b0546dc0",
   "metadata": {},
   "source": [
    "One of my main concerns is not using chronologically consistent data for this project. Given the size of the main 311 requests dataset, I'm not able to select a specific amount of rows per available year. I'd like to expand the size of the main dataset to run the analysis and modeling with a more consistent timeframe for the 311 requests. "
   ]
  },
  {
   "cell_type": "markdown",
   "id": "fe76ddca-6494-44c5-b83b-55076e46fb99",
   "metadata": {},
   "source": [
    "Another concern is missing features, not having enough demographic indicators to extract significant insights from the main dataset would make the final model less useful."
   ]
  },
  {
   "cell_type": "markdown",
   "id": "a5177ce2-d381-4733-9088-6e911aa146d3",
   "metadata": {},
   "source": [
    "## Next steps."
   ]
  },
  {
   "cell_type": "markdown",
   "id": "a5bd9a6b-5f33-4efe-bbcd-3dd86983323a",
   "metadata": {},
   "source": [
    "In addition to the already mentioned steps that will be done for the final version of processing and EDA, I'd like to do a more granular analysis of the requests types, getting their distributions per borough or even community board. It would be interesting to determine what type of complaint one is most likely to encounter depending on a specific location. "
   ]
  },
  {
   "cell_type": "markdown",
   "id": "8b40ed6d-e387-446d-b5ec-ff534f62f202",
   "metadata": {},
   "source": [
    "For future feature engineering, I'd like to explore the addition of binary variables for the demographic variables to determine low/high income variability, low/high diversity and low/high poverty rates. Geographical dummy variables for borough or community board could also be beneficial for easier modeling. Dummy variables for service request attributes such as responsible city agency and month of year could also be beneficial. "
   ]
  },
  {
   "cell_type": "markdown",
   "id": "8880b8f4-e765-4eb7-95d3-5bab1812677a",
   "metadata": {},
   "source": [
    "For baseline modeling, I believe a linear regression would be a good first step to find the appropriate prediction model for service request resolution times. This has not been covered yet, but survival analysis might  also be a good approach to predicting resolution times."
   ]
  }
 ],
 "metadata": {
  "kernelspec": {
   "display_name": "Python 3 (ipykernel)",
   "language": "python",
   "name": "python3"
  },
  "language_info": {
   "codemirror_mode": {
    "name": "ipython",
    "version": 3
   },
   "file_extension": ".py",
   "mimetype": "text/x-python",
   "name": "python",
   "nbconvert_exporter": "python",
   "pygments_lexer": "ipython3",
   "version": "3.11.7"
  }
 },
 "nbformat": 4,
 "nbformat_minor": 5
}
