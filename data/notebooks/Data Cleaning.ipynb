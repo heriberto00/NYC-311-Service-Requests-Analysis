{
 "cells": [
  {
   "cell_type": "code",
   "execution_count": 1,
   "id": "9e1412ff-64e1-42c6-b5ad-8d1a33c72d3c",
   "metadata": {},
   "outputs": [],
   "source": [
    "import time\n",
    "import seaborn as sns\n",
    "import pandas as pd\n",
    "import matplotlib\n",
    "import matplotlib.pyplot as plt\n",
    "import squarify\n",
    "import numpy as np\n",
    "pd.options.mode.chained_assignment = None  # default='warn'\n",
    "import re\n",
    "from wordcloud import WordCloud"
   ]
  },
  {
   "cell_type": "markdown",
   "id": "98a9ee68-4f55-4e8a-9cd9-492401207d13",
   "metadata": {},
   "source": [
    "## Data cleaning."
   ]
  },
  {
   "cell_type": "markdown",
   "id": "b180ffc7-6954-4a28-b596-a94a586ccffb",
   "metadata": {},
   "source": [
    "Cleaning the 311 Requests dataset first."
   ]
  },
  {
   "cell_type": "code",
   "execution_count": 3,
   "id": "0bcd0026-51f8-4845-9c71-4213176272d6",
   "metadata": {},
   "outputs": [],
   "source": [
    "# import parquet file\n",
    "#req_df = pd.read_parquet(\"capstone_data.parquet.gzip\")"
   ]
  },
  {
   "cell_type": "markdown",
   "id": "d7aeffcd-502b-43d2-8a90-2373a6313b23",
   "metadata": {},
   "source": [
    "Only keeping columns relevant to request type, location and resolution time."
   ]
  },
  {
   "cell_type": "code",
   "execution_count": 4,
   "id": "29345c1d-429d-4bee-af4f-88780fda6240",
   "metadata": {},
   "outputs": [],
   "source": [
    "req_df = req_df[['created_date', 'agency', 'agency_name', 'complaint_type', 'incident_zip', 'borough', 'community_board',\n",
    "                 'resolution_description', 'closed_date', 'due_date', 'descriptor']]"
   ]
  },
  {
   "cell_type": "markdown",
   "id": "7248b31e-c0db-4193-90ad-9e1c1e45eb78",
   "metadata": {},
   "source": [
    "Excluding rows with invalid ZIP codes, since it'll later be used to join median income data."
   ]
  },
  {
   "cell_type": "code",
   "execution_count": 5,
   "id": "0b5612a5-8f4a-47e2-af5c-ed318a030efa",
   "metadata": {},
   "outputs": [],
   "source": [
    "req_df = req_df[req_df['incident_zip'].notna()]\n",
    "req_df = req_df[req_df['incident_zip'] != \"NA\"]"
   ]
  },
  {
   "cell_type": "code",
   "execution_count": 6,
   "id": "bffc7c28-a8d1-4fbd-b748-59a54e14ff9c",
   "metadata": {},
   "outputs": [
    {
     "data": {
      "text/plain": [
       "27315"
      ]
     },
     "execution_count": 6,
     "metadata": {},
     "output_type": "execute_result"
    }
   ],
   "source": [
    "# looking at total amount of duplicates\n",
    "req_df.duplicated().sum()"
   ]
  },
  {
   "cell_type": "code",
   "execution_count": 7,
   "id": "eff0e543-84e3-4984-9d25-62cc5075080c",
   "metadata": {},
   "outputs": [],
   "source": [
    "# not a significant amount, we can drop duplicates\n",
    "req_df.drop_duplicates(inplace=True)"
   ]
  },
  {
   "cell_type": "code",
   "execution_count": 8,
   "id": "84eb0de2-5728-4eaf-b1ae-f7bdb2f1317a",
   "metadata": {},
   "outputs": [
    {
     "data": {
      "text/plain": [
       "created_date              2936143\n",
       "agency                    2936143\n",
       "agency_name               2936143\n",
       "complaint_type            2936143\n",
       "incident_zip              2936143\n",
       "borough                   2936143\n",
       "community_board           2936143\n",
       "resolution_description    2838451\n",
       "closed_date               2768004\n",
       "due_date                    15443\n",
       "descriptor                2911135\n",
       "dtype: int64"
      ]
     },
     "execution_count": 8,
     "metadata": {},
     "output_type": "execute_result"
    }
   ],
   "source": [
    "req_df.count()"
   ]
  },
  {
   "cell_type": "code",
   "execution_count": 9,
   "id": "7eac40c4-8734-4b78-bf9e-b1fc8317f5b4",
   "metadata": {},
   "outputs": [],
   "source": [
    "# converting date columns from object to datetime for easier manipulation\n",
    "req_df['created_date']= pd.to_datetime(req_df['created_date'])\n",
    "req_df['closed_date']= pd.to_datetime(req_df['closed_date'])\n",
    "req_df['due_date']= pd.to_datetime(req_df['due_date'])"
   ]
  },
  {
   "cell_type": "code",
   "execution_count": 10,
   "id": "e4a98af0-aa5e-45ce-aee3-93c0a114ac6e",
   "metadata": {},
   "outputs": [],
   "source": [
    "# converting columns from object to string and int for easier manipulation\n",
    "req_df['agency'] = req_df['agency'].astype(\"string\")\n",
    "req_df['agency_name'] = req_df['agency_name'].astype(\"string\")\n",
    "req_df['complaint_type'] = req_df['complaint_type'].astype(\"string\")\n",
    "req_df['resolution_description'] = req_df['resolution_description'].astype(\"string\")\n",
    "req_df['borough'] = req_df['borough'].astype(\"string\")\n",
    "req_df['community_board'] = req_df['community_board'].astype(\"string\")\n",
    "req_df['descriptor'] = req_df['descriptor'].astype(\"string\")\n",
    "req_df['incident_zip'] = req_df['incident_zip'].astype(\"string\").astype(\"int\")"
   ]
  },
  {
   "cell_type": "code",
   "execution_count": 11,
   "id": "b0301fb7-e472-4c7e-a709-b75b65b5ffdf",
   "metadata": {},
   "outputs": [],
   "source": [
    "# sorting and reseting index to have a chronological ordered dataset\n",
    "req_df = req_df.sort_values(by=['created_date'])\n",
    "req_df = req_df.reset_index(drop=True)"
   ]
  },
  {
   "cell_type": "code",
   "execution_count": 12,
   "id": "334b7af7-673c-40ba-b8c9-affe1b78c7ac",
   "metadata": {},
   "outputs": [
    {
     "name": "stdout",
     "output_type": "stream",
     "text": [
      "<class 'pandas.core.frame.DataFrame'>\n",
      "RangeIndex: 2936143 entries, 0 to 2936142\n",
      "Data columns (total 11 columns):\n",
      " #   Column                  Dtype         \n",
      "---  ------                  -----         \n",
      " 0   created_date            datetime64[ns]\n",
      " 1   agency                  string        \n",
      " 2   agency_name             string        \n",
      " 3   complaint_type          string        \n",
      " 4   incident_zip            int64         \n",
      " 5   borough                 string        \n",
      " 6   community_board         string        \n",
      " 7   resolution_description  string        \n",
      " 8   closed_date             datetime64[ns]\n",
      " 9   due_date                datetime64[ns]\n",
      " 10  descriptor              string        \n",
      "dtypes: datetime64[ns](3), int64(1), string(7)\n",
      "memory usage: 246.4 MB\n"
     ]
    }
   ],
   "source": [
    "req_df.info()"
   ]
  },
  {
   "cell_type": "code",
   "execution_count": 13,
   "id": "2095900f-406b-4c19-800d-20cd46247bfe",
   "metadata": {},
   "outputs": [
    {
     "data": {
      "text/plain": [
       "(2936143, 11)"
      ]
     },
     "execution_count": 13,
     "metadata": {},
     "output_type": "execute_result"
    }
   ],
   "source": [
    "req_df.shape"
   ]
  },
  {
   "cell_type": "code",
   "execution_count": 14,
   "id": "72f59bb4-7927-4cd0-ba27-26c115af9b7d",
   "metadata": {},
   "outputs": [
    {
     "data": {
      "text/html": [
       "<div>\n",
       "<style scoped>\n",
       "    .dataframe tbody tr th:only-of-type {\n",
       "        vertical-align: middle;\n",
       "    }\n",
       "\n",
       "    .dataframe tbody tr th {\n",
       "        vertical-align: top;\n",
       "    }\n",
       "\n",
       "    .dataframe thead th {\n",
       "        text-align: right;\n",
       "    }\n",
       "</style>\n",
       "<table border=\"1\" class=\"dataframe\">\n",
       "  <thead>\n",
       "    <tr style=\"text-align: right;\">\n",
       "      <th></th>\n",
       "      <th>created_date</th>\n",
       "      <th>agency</th>\n",
       "      <th>agency_name</th>\n",
       "      <th>complaint_type</th>\n",
       "      <th>incident_zip</th>\n",
       "      <th>borough</th>\n",
       "      <th>community_board</th>\n",
       "      <th>resolution_description</th>\n",
       "      <th>closed_date</th>\n",
       "      <th>due_date</th>\n",
       "      <th>descriptor</th>\n",
       "    </tr>\n",
       "  </thead>\n",
       "  <tbody>\n",
       "    <tr>\n",
       "      <th>0</th>\n",
       "      <td>2023-06-10 21:11:28</td>\n",
       "      <td>NYPD</td>\n",
       "      <td>New York City Police Department</td>\n",
       "      <td>Non-Emergency Police Matter</td>\n",
       "      <td>10465</td>\n",
       "      <td>BRONX</td>\n",
       "      <td>10 BRONX</td>\n",
       "      <td>The Police Department responded to the complai...</td>\n",
       "      <td>2023-06-10 21:27:23</td>\n",
       "      <td>NaT</td>\n",
       "      <td>Other (complaint details)</td>\n",
       "    </tr>\n",
       "  </tbody>\n",
       "</table>\n",
       "</div>"
      ],
      "text/plain": [
       "         created_date agency                      agency_name  \\\n",
       "0 2023-06-10 21:11:28   NYPD  New York City Police Department   \n",
       "\n",
       "                complaint_type  incident_zip borough community_board  \\\n",
       "0  Non-Emergency Police Matter         10465   BRONX        10 BRONX   \n",
       "\n",
       "                              resolution_description         closed_date  \\\n",
       "0  The Police Department responded to the complai... 2023-06-10 21:27:23   \n",
       "\n",
       "  due_date                 descriptor  \n",
       "0      NaT  Other (complaint details)  "
      ]
     },
     "execution_count": 14,
     "metadata": {},
     "output_type": "execute_result"
    }
   ],
   "source": [
    "req_df.head(1)"
   ]
  },
  {
   "cell_type": "markdown",
   "id": "e1ab42f7-f63a-43f0-a8cf-0d3eab6a32d4",
   "metadata": {},
   "source": [
    "Our request information includes the created date, the agency tasked with resolution, name of the agency, the complaint type, the ZIP code where the incident was reported, the Borough this ZIP code is a part of, the Community board this ZIP code is a part of, the description of the resolution, the date it was closed/resolved if any, due date of the resolution if any, and the description of the complaint if any."
   ]
  },
  {
   "cell_type": "markdown",
   "id": "7d07e0a2-c726-4f89-baad-8bc225ceb167",
   "metadata": {},
   "source": [
    "---"
   ]
  },
  {
   "cell_type": "markdown",
   "id": "aa86a08a-a774-4db4-a151-1a7ad946648b",
   "metadata": {},
   "source": [
    "Cleaning the median household income data."
   ]
  },
  {
   "cell_type": "code",
   "execution_count": 15,
   "id": "d691a5ed-ad90-422f-aec7-89e04b57452f",
   "metadata": {},
   "outputs": [],
   "source": [
    "# importing median income data\n",
    "income_df = pd.read_csv(\"median_income.csv\")"
   ]
  },
  {
   "cell_type": "code",
   "execution_count": 16,
   "id": "a20db482-9db9-4f2e-9fec-0502ab7aacf4",
   "metadata": {},
   "outputs": [
    {
     "data": {
      "text/plain": [
       "0"
      ]
     },
     "execution_count": 16,
     "metadata": {},
     "output_type": "execute_result"
    }
   ],
   "source": [
    "income_df.duplicated().sum()"
   ]
  },
  {
   "cell_type": "code",
   "execution_count": 17,
   "id": "1e26de15-9d18-49c0-86ba-c7a27858eab6",
   "metadata": {},
   "outputs": [
    {
     "name": "stdout",
     "output_type": "stream",
     "text": [
      "<class 'pandas.core.frame.DataFrame'>\n",
      "RangeIndex: 180 entries, 0 to 179\n",
      "Data columns (total 2 columns):\n",
      " #   Column              Non-Null Count  Dtype\n",
      "---  ------              --------------  -----\n",
      " 0   zip                 180 non-null    int64\n",
      " 1   median_income_2022  180 non-null    int64\n",
      "dtypes: int64(2)\n",
      "memory usage: 2.9 KB\n"
     ]
    }
   ],
   "source": [
    "income_df.info()"
   ]
  },
  {
   "cell_type": "code",
   "execution_count": 18,
   "id": "ca688165-ecff-4d1b-8dfe-8beab4f8e249",
   "metadata": {},
   "outputs": [],
   "source": [
    "# no invalid or duplicated values, we only need to change column names to match 311 requests dataset\n",
    "income_df = income_df.rename(columns={\"zip\":\"incident_zip\"})"
   ]
  },
  {
   "cell_type": "markdown",
   "id": "92067bef-47fe-4376-a231-2989691aa04e",
   "metadata": {},
   "source": [
    "After cleaning, median household income dataset has 180 rows with 2 columns."
   ]
  },
  {
   "cell_type": "markdown",
   "id": "60da214e-f418-469b-8870-233c48ae46d4",
   "metadata": {},
   "source": [
    "---"
   ]
  },
  {
   "cell_type": "markdown",
   "id": "240440d6-71b0-4303-bd24-12de8b093b77",
   "metadata": {},
   "source": [
    "Cleaning poverty rate data."
   ]
  },
  {
   "cell_type": "code",
   "execution_count": 19,
   "id": "ed57f244-b1f3-472f-afbb-7894938e41f6",
   "metadata": {},
   "outputs": [],
   "source": [
    "# importing poverty rate data\n",
    "poverty_df = pd.read_csv(\"poverty_rate.csv\")"
   ]
  },
  {
   "cell_type": "code",
   "execution_count": 20,
   "id": "fa277e79-9c9d-47fc-8fbf-816ab0206d75",
   "metadata": {},
   "outputs": [],
   "source": [
    "# only keep location and poverty rate related columns\n",
    "poverty_df = poverty_df[[\"Sub-Borough Area\", \"2021\"]]"
   ]
  },
  {
   "cell_type": "code",
   "execution_count": 21,
   "id": "a64cf731-7ee0-4757-a2de-c954e75e9721",
   "metadata": {},
   "outputs": [
    {
     "data": {
      "text/plain": [
       "0"
      ]
     },
     "execution_count": 21,
     "metadata": {},
     "output_type": "execute_result"
    }
   ],
   "source": [
    "poverty_df.duplicated().sum()"
   ]
  },
  {
   "cell_type": "code",
   "execution_count": 22,
   "id": "dc825967-738a-455d-ab99-079c426cbafa",
   "metadata": {},
   "outputs": [
    {
     "name": "stdout",
     "output_type": "stream",
     "text": [
      "<class 'pandas.core.frame.DataFrame'>\n",
      "RangeIndex: 55 entries, 0 to 54\n",
      "Data columns (total 2 columns):\n",
      " #   Column            Non-Null Count  Dtype  \n",
      "---  ------            --------------  -----  \n",
      " 0   Sub-Borough Area  55 non-null     object \n",
      " 1   2021              55 non-null     float64\n",
      "dtypes: float64(1), object(1)\n",
      "memory usage: 1012.0+ bytes\n"
     ]
    }
   ],
   "source": [
    "poverty_df.info()"
   ]
  },
  {
   "cell_type": "code",
   "execution_count": 23,
   "id": "d4f5bc85-2238-4ebc-a004-01853ed6f99a",
   "metadata": {},
   "outputs": [],
   "source": [
    "poverty_df['Sub-Borough Area'] = poverty_df['Sub-Borough Area'].astype(\"string\")"
   ]
  },
  {
   "cell_type": "code",
   "execution_count": 24,
   "id": "2c253035-2c61-4e10-9a5d-33d2828af57b",
   "metadata": {},
   "outputs": [],
   "source": [
    "# no invalid or duplicated values, we only need to change column names for easier manipulation\n",
    "poverty_df = poverty_df.rename(columns={\"Sub-Borough Area\":\"sub_borough_area\", \"2021\":\"poverty_rate_2021\"})"
   ]
  },
  {
   "cell_type": "markdown",
   "id": "26565062-be89-40a5-bd5a-d2dccd815504",
   "metadata": {},
   "source": [
    "After cleaning, poverty rate dataset has 55 rows with 2 columns."
   ]
  },
  {
   "cell_type": "markdown",
   "id": "b64ab6b9-8f06-484b-be21-4a9b84091055",
   "metadata": {},
   "source": [
    "---"
   ]
  },
  {
   "cell_type": "markdown",
   "id": "f819260f-42cd-4705-ab0e-5c2ca0edd8e4",
   "metadata": {},
   "source": [
    "Cleaning racial diversity index data."
   ]
  },
  {
   "cell_type": "code",
   "execution_count": 25,
   "id": "966c1d76-b53b-461d-9829-620b0fca44c9",
   "metadata": {},
   "outputs": [],
   "source": [
    "# importing racial diversity index data\n",
    "diversity_df = pd.read_csv(\"racial_diversity_index.csv\")"
   ]
  },
  {
   "cell_type": "code",
   "execution_count": 26,
   "id": "813ad4ad-a932-45d6-8c99-a16c274a6310",
   "metadata": {},
   "outputs": [],
   "source": [
    "# only keep location and diversity index related columns\n",
    "diversity_df = diversity_df[[\"Sub-Borough Area\", \"2021\"]]"
   ]
  },
  {
   "cell_type": "code",
   "execution_count": 27,
   "id": "fda290e3-2065-4864-a34d-02e9dcba7ae9",
   "metadata": {},
   "outputs": [
    {
     "data": {
      "text/plain": [
       "0"
      ]
     },
     "execution_count": 27,
     "metadata": {},
     "output_type": "execute_result"
    }
   ],
   "source": [
    "diversity_df.duplicated().sum()"
   ]
  },
  {
   "cell_type": "code",
   "execution_count": 28,
   "id": "0c5c4418-45ad-4a79-a659-33fb86d66ae4",
   "metadata": {},
   "outputs": [
    {
     "name": "stdout",
     "output_type": "stream",
     "text": [
      "<class 'pandas.core.frame.DataFrame'>\n",
      "RangeIndex: 55 entries, 0 to 54\n",
      "Data columns (total 2 columns):\n",
      " #   Column            Non-Null Count  Dtype  \n",
      "---  ------            --------------  -----  \n",
      " 0   Sub-Borough Area  55 non-null     object \n",
      " 1   2021              55 non-null     float64\n",
      "dtypes: float64(1), object(1)\n",
      "memory usage: 1012.0+ bytes\n"
     ]
    }
   ],
   "source": [
    "diversity_df.info()"
   ]
  },
  {
   "cell_type": "code",
   "execution_count": 29,
   "id": "468e9fc6-d3bd-4999-a790-3c899798c77e",
   "metadata": {},
   "outputs": [],
   "source": [
    "# no invalid or duplicated values, we only need to change column names for easier manipulation\n",
    "diversity_df = diversity_df.rename(columns={\"Sub-Borough Area\":\"sub_borough_area\", \"2021\":\"diversity_index_2021\"})"
   ]
  },
  {
   "cell_type": "markdown",
   "id": "4e535608-b321-45be-9353-cc0478ec61d4",
   "metadata": {},
   "source": [
    "After cleaning, diversity index dataset has 55 rows with 2 columns."
   ]
  },
  {
   "cell_type": "markdown",
   "id": "96f36a0d-1208-4e7d-af0b-5e2f5782eefd",
   "metadata": {},
   "source": [
    "---"
   ]
  },
  {
   "cell_type": "markdown",
   "id": "d2d39cf6-a07a-484f-adc5-e13ab72c7899",
   "metadata": {},
   "source": [
    "## Data preprocessing."
   ]
  },
  {
   "cell_type": "markdown",
   "id": "58695a34-1ae5-4e2d-80bf-15d27f8a31dd",
   "metadata": {},
   "source": [
    "First, I'll join the main 311 Requests dataset with the relevant columns extracted from the racial diversity index data, poverty rate data, and median household income data."
   ]
  },
  {
   "cell_type": "code",
   "execution_count": 30,
   "id": "752ac514-c51a-4a5a-b2f6-a15e0ca82b89",
   "metadata": {},
   "outputs": [],
   "source": [
    "# we can easily join these 2 datasets, using the many-to-one validation parameter to double-check we only get one value per ZIP code\n",
    "req_df = req_df.merge(income_df, on=\"incident_zip\", how=\"left\", validate=\"m:1\")"
   ]
  },
  {
   "cell_type": "markdown",
   "id": "93d657eb-cac9-45fb-98ee-2b3fa54ce940",
   "metadata": {},
   "source": [
    "The closest location attribute that can be used from the 311 Requests dataset to join with  the racial diversity index and poverty rate datasets is the ```community_board``` column. These can be joined to each corresponding ```sub_borough_area```, given community board divisions closely resemble sub-borough divisions."
   ]
  },
  {
   "cell_type": "markdown",
   "id": "9c31ec82-5039-4db0-acb6-d191d0d700f0",
   "metadata": {},
   "source": [
    "Community boards in NYC are advisory boards made up of community members. They make important recommendations about land use, zoning, and other local issues. These are comprised of multiple neighborhoods, and by using NYC OpenData's [\"NYC Community Boards\"](https://data.cityofnewyork.us/City-Government/NYC-Community-Boards/ruf7-3wgc/about_data) dataset and this [NYC Sub-Borough map](https://github.com/heriberto00/Capstone/blob/main/data/datasets/subboro.pdf), I was able to find and assign the corresponding ```community_board``` to each ```sub_borough_area``` in the racial diversity index and poverty rate datasets using the ```neighborhoods``` value in the community boards dataset."
   ]
  },
  {
   "cell_type": "markdown",
   "id": "525d169a-ffa0-4a0d-b925-2d3c2dbb4f13",
   "metadata": {},
   "source": [
    "To deal with the missing link between datasets, we can manually assign each sub-borough the closest corresponding community board."
   ]
  },
  {
   "cell_type": "code",
   "execution_count": 31,
   "id": "db920d0a-815a-4dbf-8e43-6c7d547d892d",
   "metadata": {},
   "outputs": [],
   "source": [
    "poverty_df['community_board'] = ''"
   ]
  },
  {
   "cell_type": "code",
   "execution_count": 32,
   "id": "13eb2736-5397-4259-b594-e40a4bd068f8",
   "metadata": {},
   "outputs": [],
   "source": [
    "# manually assigning each community_board depending on sub_borough_area\n",
    "poverty_df['community_board'].loc[poverty_df['sub_borough_area'] == 'Greenwich Village/Financial District'] = '02 MANHATTAN'\n",
    "poverty_df['community_board'].loc[poverty_df['sub_borough_area'] == 'Lower East Side/Chinatown'] = '03 MANHATTAN'\n",
    "poverty_df['community_board'].loc[poverty_df['sub_borough_area'] == 'Kingsbridge Heights/Mosholu'] = '07 BRONX'\n",
    "poverty_df['community_board'].loc[poverty_df['sub_borough_area'] == 'Riverdale/Kingsbridge'] = '08 BRONX'\n",
    "poverty_df['community_board'].loc[poverty_df['sub_borough_area'] == 'Soundview/Parkchester'] = '09 BRONX'\n",
    "poverty_df['community_board'].loc[poverty_df['sub_borough_area'] == 'Throgs Neck/Co-op City'] = '10 BRONX'\n",
    "poverty_df['community_board'].loc[poverty_df['sub_borough_area'] == 'Pelham Parkway'] = '11 BRONX'\n",
    "poverty_df['community_board'].loc[poverty_df['sub_borough_area'] == 'Williamsbridge/Baychester'] = '12 BRONX'\n",
    "poverty_df['community_board'].loc[poverty_df['sub_borough_area'] == 'Williamsburg/Greenpoint'] = '01 BROOKLYN'\n",
    "poverty_df['community_board'].loc[poverty_df['sub_borough_area'] == 'Brooklyn Heights/Fort Greene'] = '02 BROOKLYN'\n",
    "poverty_df['community_board'].loc[poverty_df['sub_borough_area'] == 'Bedford Stuyvesant'] = '03 BROOKLYN'\n",
    "poverty_df['community_board'].loc[poverty_df['sub_borough_area'] == 'Bushwick'] = '04 BROOKLYN'\n",
    "poverty_df['community_board'].loc[poverty_df['sub_borough_area'] == 'East New York/Starrett City'] = '05 BROOKLYN'\n",
    "poverty_df['community_board'].loc[poverty_df['sub_borough_area'] == 'Park Slope/Carroll Gardens'] = '06 BROOKLYN'\n",
    "poverty_df['community_board'].loc[poverty_df['sub_borough_area'] == 'Sunset Park'] = '07 BROOKLYN'\n",
    "poverty_df['community_board'].loc[poverty_df['sub_borough_area'] == 'North Crown Heights/Prospect Heights'] = '08 BROOKLYN'\n",
    "poverty_df['community_board'].loc[poverty_df['sub_borough_area'] == 'Elmhurst/Corona'] = '04 QUEENS'\n",
    "poverty_df['community_board'].loc[poverty_df['sub_borough_area'] == 'Middle Village/Ridgewood'] = '05 QUEENS'\n",
    "poverty_df['community_board'].loc[poverty_df['sub_borough_area'] == 'Rego Park/Forest Hills'] = '06 QUEENS'\n",
    "poverty_df['community_board'].loc[poverty_df['sub_borough_area'] == 'Flushing/Whitestone'] = '07 QUEENS'\n",
    "poverty_df['community_board'].loc[poverty_df['sub_borough_area'] == 'Hillcrest/Fresh Meadows'] = '08 QUEENS'\n",
    "poverty_df['community_board'].loc[poverty_df['sub_borough_area'] == 'Ozone Park/Woodhaven'] = '09 QUEENS'\n",
    "poverty_df['community_board'].loc[poverty_df['sub_borough_area'] == 'South Ozone Park/Howard Beach'] = '10 QUEENS'\n",
    "poverty_df['community_board'].loc[poverty_df['sub_borough_area'] == 'Bayside/Little Neck'] = '11 QUEENS'\n",
    "poverty_df['community_board'].loc[poverty_df['sub_borough_area'] == 'Jamaica'] = '12 QUEENS'\n",
    "poverty_df['community_board'].loc[poverty_df['sub_borough_area'] == 'Queens Village'] = '13 QUEENS'\n",
    "poverty_df['community_board'].loc[poverty_df['sub_borough_area'] == 'Rockaways'] = '14 QUEENS'\n",
    "poverty_df['community_board'].loc[poverty_df['sub_borough_area'] == 'North Shore'] = '01 STATEN ISLAND'\n",
    "poverty_df['community_board'].loc[poverty_df['sub_borough_area'] == 'Mid-Island'] = '02 STATEN ISLAND'\n",
    "poverty_df['community_board'].loc[poverty_df['sub_borough_area'] == 'South Shore'] = '03 STATEN ISLAND'\n",
    "poverty_df['community_board'].loc[poverty_df['sub_borough_area'] == 'Chelsea/Clinton/Midtown'] = '04 MANHATTAN'\n",
    "poverty_df['community_board'].loc[poverty_df['sub_borough_area'] == 'Stuyvesant Town/Turtle Bay'] = '06 MANHATTAN'\n",
    "poverty_df['community_board'].loc[poverty_df['sub_borough_area'] == 'Upper West Side'] = '07 MANHATTAN'\n",
    "poverty_df['community_board'].loc[poverty_df['sub_borough_area'] == 'Upper East Side'] = '08 MANHATTAN'\n",
    "poverty_df['community_board'].loc[poverty_df['sub_borough_area'] == 'Morningside Heights/Hamilton Heights'] = '09 MANHATTAN'\n",
    "poverty_df['community_board'].loc[poverty_df['sub_borough_area'] == 'Central Harlem'] = '10 MANHATTAN'\n",
    "poverty_df['community_board'].loc[poverty_df['sub_borough_area'] == 'East Harlem'] = '11 MANHATTAN'\n",
    "poverty_df['community_board'].loc[poverty_df['sub_borough_area'] == 'Washington Heights/Inwood'] = '12 MANHATTAN'\n",
    "poverty_df['community_board'].loc[poverty_df['sub_borough_area'] == 'Mott Haven/Hunts Point'] = '01 BRONX'\n",
    "poverty_df['community_board'].loc[poverty_df['sub_borough_area'] == 'Morrisania/Belmont'] = '02 BRONX'\n",
    "poverty_df['community_board'].loc[poverty_df['sub_borough_area'] == 'Highbridge/South Concourse'] = '04 BRONX'\n",
    "poverty_df['community_board'].loc[poverty_df['sub_borough_area'] == 'University Heights/Fordham'] = '05 BRONX'\n",
    "poverty_df['community_board'].loc[poverty_df['sub_borough_area'] == 'South Crown Heights'] = '09 BROOKLYN'\n",
    "poverty_df['community_board'].loc[poverty_df['sub_borough_area'] == 'Bay Ridge'] = '10 BROOKLYN'\n",
    "poverty_df['community_board'].loc[poverty_df['sub_borough_area'] == 'Bensonhurst'] = '11 BROOKLYN'\n",
    "poverty_df['community_board'].loc[poverty_df['sub_borough_area'] == 'Borough Park'] = '12 BROOKLYN'\n",
    "poverty_df['community_board'].loc[poverty_df['sub_borough_area'] == 'Coney Island'] = '13 BROOKLYN'\n",
    "poverty_df['community_board'].loc[poverty_df['sub_borough_area'] == 'Flatbush'] = '14 BROOKLYN'\n",
    "poverty_df['community_board'].loc[poverty_df['sub_borough_area'] == 'Sheepshead Bay/Gravesend'] = '15 BROOKLYN'\n",
    "poverty_df['community_board'].loc[poverty_df['sub_borough_area'] == 'Brownsville/Ocean Hill'] = '16 BROOKLYN'\n",
    "poverty_df['community_board'].loc[poverty_df['sub_borough_area'] == 'East Flatbush'] = '17 BROOKLYN'\n",
    "poverty_df['community_board'].loc[poverty_df['sub_borough_area'] == 'Flatlands/Canarsie'] = '18 BROOKLYN'\n",
    "poverty_df['community_board'].loc[poverty_df['sub_borough_area'] == 'Astoria'] = '01 QUEENS'\n",
    "poverty_df['community_board'].loc[poverty_df['sub_borough_area'] == 'Sunnyside/Woodside'] = '02 QUEENS'\n",
    "poverty_df['community_board'].loc[poverty_df['sub_borough_area'] == 'Jackson Heights'] = '03 QUEENS'"
   ]
  },
  {
   "cell_type": "code",
   "execution_count": 33,
   "id": "ab581555-5277-4987-adc9-3e70854d93ba",
   "metadata": {},
   "outputs": [],
   "source": [
    "# merge diversity_df with poverty_df to get already assigned community_board values\n",
    "diversity_df = diversity_df.merge(poverty_df[['sub_borough_area', 'community_board']], on=\"sub_borough_area\", how=\"left\", validate=\"m:1\")"
   ]
  },
  {
   "cell_type": "code",
   "execution_count": 34,
   "id": "245c20c7-b904-4fb6-a7e5-a7aeb8268551",
   "metadata": {},
   "outputs": [],
   "source": [
    "# manually adding index for 05 MANHATTAN community board because of overlapping neighborhoods\n",
    "diversity_df = diversity_df[['diversity_index_2021', 'community_board']]\n",
    "man05 = pd.DataFrame({'diversity_index_2021':[0.584941], 'community_board': ['05 MANHATTAN']})\n",
    "diversity_df = diversity_df._append(man05, ignore_index = True)"
   ]
  },
  {
   "cell_type": "code",
   "execution_count": 35,
   "id": "a80a13ee-4464-4e11-89de-614a39b0979a",
   "metadata": {},
   "outputs": [],
   "source": [
    "# manually adding rate for 05 MANHATTAN community board because of overlapping neighborhoods\n",
    "poverty_df = poverty_df[['poverty_rate_2021', 'community_board']]\n",
    "man05 = pd.DataFrame({'poverty_rate_2021':[0.111038], 'community_board': ['05 MANHATTAN']})\n",
    "poverty_df = poverty_df._append(man05, ignore_index = True)"
   ]
  },
  {
   "cell_type": "code",
   "execution_count": 36,
   "id": "72607efc-efde-45a0-83fc-bf88a1656451",
   "metadata": {},
   "outputs": [],
   "source": [
    "# merge dataframes with main dataframe containing 311 requests\n",
    "req_df = req_df.merge(poverty_df[['poverty_rate_2021','community_board']], on=\"community_board\", how=\"left\", validate=\"m:1\")\n",
    "req_df = req_df.merge(diversity_df[['diversity_index_2021','community_board']], on=\"community_board\", how=\"left\", validate=\"m:1\")"
   ]
  },
  {
   "cell_type": "code",
   "execution_count": 37,
   "id": "459f15fb-12a7-4793-ab96-cbc31f4e6a71",
   "metadata": {},
   "outputs": [],
   "source": [
    "req_df['community_board'] = req_df['community_board'].astype(\"string\")"
   ]
  },
  {
   "cell_type": "code",
   "execution_count": 38,
   "id": "d1ebb0f1-2ae8-4831-af17-966f666e0ad8",
   "metadata": {},
   "outputs": [
    {
     "name": "stdout",
     "output_type": "stream",
     "text": [
      "<class 'pandas.core.frame.DataFrame'>\n",
      "RangeIndex: 2936143 entries, 0 to 2936142\n",
      "Data columns (total 14 columns):\n",
      " #   Column                  Dtype         \n",
      "---  ------                  -----         \n",
      " 0   created_date            datetime64[ns]\n",
      " 1   agency                  string        \n",
      " 2   agency_name             string        \n",
      " 3   complaint_type          string        \n",
      " 4   incident_zip            int64         \n",
      " 5   borough                 string        \n",
      " 6   community_board         string        \n",
      " 7   resolution_description  string        \n",
      " 8   closed_date             datetime64[ns]\n",
      " 9   due_date                datetime64[ns]\n",
      " 10  descriptor              string        \n",
      " 11  median_income_2022      float64       \n",
      " 12  poverty_rate_2021       float64       \n",
      " 13  diversity_index_2021    float64       \n",
      "dtypes: datetime64[ns](3), float64(3), int64(1), string(7)\n",
      "memory usage: 313.6 MB\n"
     ]
    }
   ],
   "source": [
    "req_df.info()"
   ]
  },
  {
   "cell_type": "code",
   "execution_count": 39,
   "id": "6892ce45-91f1-4852-a47a-005ae3498c2b",
   "metadata": {},
   "outputs": [
    {
     "data": {
      "text/plain": [
       "(2936143, 14)"
      ]
     },
     "execution_count": 39,
     "metadata": {},
     "output_type": "execute_result"
    }
   ],
   "source": [
    "req_df.shape"
   ]
  },
  {
   "cell_type": "markdown",
   "id": "05eba4d5-cc61-4d8f-acb3-7863eac3edc5",
   "metadata": {},
   "source": [
    "Our processed dataset contains 14 columns, including request information and demographic data."
   ]
  },
  {
   "cell_type": "code",
   "execution_count": null,
   "id": "47dbdd36-20f7-4792-b5b6-5469980859d4",
   "metadata": {},
   "outputs": [],
   "source": [
    "#exclude to parquet for easier retrieval in separate notebooks\n",
    "#req_df.to_parquet('req_df_clean.parquet.gzip', compression='gzip')"
   ]
  }
 ],
 "metadata": {
  "kernelspec": {
   "display_name": "Python 3 (ipykernel)",
   "language": "python",
   "name": "python3"
  },
  "language_info": {
   "codemirror_mode": {
    "name": "ipython",
    "version": 3
   },
   "file_extension": ".py",
   "mimetype": "text/x-python",
   "name": "python",
   "nbconvert_exporter": "python",
   "pygments_lexer": "ipython3",
   "version": "3.11.7"
  }
 },
 "nbformat": 4,
 "nbformat_minor": 5
}
